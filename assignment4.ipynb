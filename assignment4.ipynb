
# Assignment 4
## Description
In this assignment you must read in a file of metropolitan regions and associated sports teams from [assets/wikipedia_data.html](assets/wikipedia_data.html) and answer some questions about each metropolitan region. Each of these regions may have one or more teams from the "Big 4": NFL (football, in [assets/nfl.csv](assets/nfl.csv)), MLB (baseball, in [assets/mlb.csv](assets/mlb.csv)), NBA (basketball, in [assets/nba.csv](assets/nba.csv) or NHL (hockey, in [assets/nhl.csv](assets/nhl.csv)). Please keep in mind that all questions are from the perspective of the metropolitan region, and that this file is the "source of authority" for the location of a given sports team. Thus teams which are commonly known by a different area (e.g. "Oakland Raiders") need to be mapped into the metropolitan region given (e.g. San Francisco Bay Area). This will require some human data understanding outside of the data you've been given (e.g. you will have to hand-code some names, and might need to google to find out where teams are)!

For each sport I would like you to answer the question: **what is the win/loss ratio's correlation with the population of the city it is in?** Win/Loss ratio refers to the number of wins over the number of wins plus the number of losses. Remember that to calculate the correlation with [`pearsonr`](https://docs.scipy.org/doc/scipy/reference/generated/scipy.stats.pearsonr.html), so you are going to send in two ordered lists of values, the populations from the wikipedia_data.html file and the win/loss ratio for a given sport in the same order. Average the win/loss ratios for those cities which have multiple teams of a single sport. Each sport is worth an equal amount in this assignment (20%\*4=80%) of the grade for this assignment. You should only use data **from year 2018** for your analysis -- this is important!

## Notes

1. Do not include data about the MLS or CFL in any of the work you are doing, we're only interested in the Big 4 in this assignment.
2. I highly suggest that you first tackle the four correlation questions in order, as they are all similar and worth the majority of grades for this assignment. This is by design!
3. It's fair game to talk with peers about high level strategy as well as the relationship between metropolitan areas and sports teams. However, do not post code solving aspects of the assignment (including such as dictionaries mapping areas to teams, or regexes which will clean up names).
4. There may be more teams than the assert statements test, remember to collapse multiple teams in one city into a single value!

## Question 1
For this question, calculate the win/loss ratio's correlation with the population of the city it is in for the **NHL** using **2018** data.


```python
import pandas as pd
import numpy as np
import scipy.stats as stats
import re

nhl_df=pd.read_csv("assets/nhl.csv")
cities=pd.read_html("assets/wikipedia_data.html")[1]
cities=cities.iloc[:-1,[0,3,5,6,7,8]]

def nhl_correlation(): 
    # YOUR CODE HERE
    
    
    
    cities_filtred = cities.set_index('NHL').filter(regex = '^[a-zA-Z]',axis =0)

    population_by_region = list(pd.to_numeric(cities_filtred.T.iloc[1], errors='coerce')) # pass in metropolitan area population from cities

    nhl_df_indexed_ = nhl_df.where(nhl_df['year']==2018).set_index('team')


    win_loss_by_region = [] # pass in win/loss ratio from nhl_df in the same order as cities["Metropolitan area"]


    for area in list(cities_filtred.index):
        sub = re.findall('[A-Z][a-z]*', area)
        print(sub)
        lis = []
        for i in sub :
            test = nhl_df_indexed_.filter(regex = i,axis =0)
            w = float(test.T.loc['W'][0])
            l = float(test.T.loc['L'][0])
            lis.append(w/(w+l))

        win_loss_by_region.append(sum(lis)/len(sub))
    #raise NotImplementedError()


    assert len(population_by_region) == len(win_loss_by_region), "Q1: Your lists must be the same length"
    assert len(population_by_region) == 28, "Q1: There should be 28 teams being analysed for NHL"
    
    return stats.pearsonr(population_by_region, win_loss_by_region)[0]

```


```python

```

## Question 2
For this question, calculate the win/loss ratio's correlation with the population of the city it is in for the **NBA** using **2018** data.


```python
import pandas as pd
import numpy as np
import scipy.stats as stats
import re

nba_df=pd.read_csv("assets/nba.csv")
cities=pd.read_html("assets/wikipedia_data.html")[1]
cities=cities.iloc[:-1,[0,3,5,6,7,8]]

def nba_correlation():
    # YOUR CODE HERE
    #raise NotImplementedError()
    
    cities_filtred = cities.set_index('NBA').filter(regex = '^[A-Z\d]',axis =0)
    population_by_region = list(pd.to_numeric(cities_filtred.T.iloc[1], errors='coerce')) # pass in metropolitan area population from cities
    
    nba_df_indexed = nba_df.where(nba_df['year']==2018).set_index('team').dropna()
    win_loss_by_region = [] # pass in win/loss ratio from nba_df in the same order as cities["Metropolitan area"]
    for area in list(cities_filtred.index):
        sub = re.findall('[A-Z|\d]+[a-z]*', re.split('\[',area)[0])
        print(sub)
        lis = []
        for i in sub :
            test = nba_df_indexed.filter(regex = i,axis =0)
            w = float(test.T.loc['W'][0])
            l = float(test.T.loc['L'][0])
            lis.append(w/(w+l))

        win_loss_by_region.append(sum(lis)/len(sub))
    
    assert len(population_by_region) == len(win_loss_by_region), "Q2: Your lists must be the same length"
    assert len(population_by_region) == 28, "Q2: There should be 28 teams being analysed for NBA"

    return stats.pearsonr(population_by_region, win_loss_by_region)[0]

nba_correlation()
```


```python

```

## Question 3
For this question, calculate the win/loss ratio's correlation with the population of the city it is in for the **MLB** using **2018** data.


```python
import pandas as pd
import numpy as np
import scipy.stats as stats
import re

mlb_df=pd.read_csv("assets/mlb.csv")
cities=pd.read_html("assets/wikipedia_data.html")[1]
cities=cities.iloc[:-1,[0,3,5,6,7,8]]

def mlb_correlation(): 
    # YOUR CODE HERE
    #raise NotImplementedError()
    
    cities_filtred = cities.set_index('MLB').filter(regex = '^[A-Z\d]',axis =0)

    population_by_region = list(pd.to_numeric(cities_filtred.T.iloc[1], errors='coerce')) # pass in metropolitan area population from cities
    
    mlb_df_indexed = mlb_df[mlb_df['year']==2018].set_index('team')
    win_loss_by_region = [] # pass in win/loss ratio from nba_df in the same order as cities["Metropolitan area"]
    for area in list(cities_filtred.index):
        sub = re.findall('[A-Z|\d]+[a-z]* [A-Z][a-z]*|[A-Z|\d]+[a-z]*', re.split('\[',area)[0])
        print(sub)
        lis = []
        for i in sub :
            test = mlb_df_indexed.filter(regex = i,axis =0)
            w = float(test.T.loc['W'][0])
            l = float(test.T.loc['L'][0])
            lis.append(w/(w+l))

        win_loss_by_region.append(sum(lis)/len(sub))
    
    assert len(population_by_region) == len(win_loss_by_region), "Q3: Your lists must be the same length"
    assert len(population_by_region) == 26, "Q3: There should be 26 teams being analysed for MLB"

    return stats.pearsonr(population_by_region, win_loss_by_region)[0]


mlb_correlation() 
#re.findall('[A-Z|\d]+[a-z]* [A-Z][a-z]*|[A-Z|\d]+[a-z]*','CubsWhite Sox')

```


```python

```

## Question 4
For this question, calculate the win/loss ratio's correlation with the population of the city it is in for the **NFL** using **2018** data.


```python
import pandas as pd
import numpy as np
import scipy.stats as stats
import re

nfl_df=pd.read_csv("assets/nfl.csv")
cities=pd.read_html("assets/wikipedia_data.html")[1]
cities=cities.iloc[:-1,[0,3,5,6,7,8]]

def nfl_correlation(): 
    # YOUR CODE HERE
    #raise NotImplementedError()
    
    cities_filtred = cities.set_index('NFL').filter(regex = '^[A-Z\d]',axis =0)
    population_by_region = list(pd.to_numeric(cities_filtred.T.iloc[1], errors='coerce')) # pass in metropolitan area population from cities

    nfl_df_indexed = nfl_df[nfl_df['year']==2018].set_index('team')
    win_loss_by_region = [] # pass in win/loss ratio from nba_df in the same order as cities["Metropolitan area"]
    for area in list(cities_filtred.index):   
        sub = re.findall('[A-Z|\d]+[a-z]* [A-Z][a-z]*|[A-Z|\d]+[a-z]*', re.split('\[',area)[0])
        #print(sub)
        lis = []
        for i in sub :
            test = nfl_df_indexed.filter(regex = i,axis =0)
            w = float(test.T.loc['W'][0])
            l = float(test.T.loc['L'][0])
            lis.append(w/(w+l))

        win_loss_by_region.append(sum(lis)/len(sub))
    
    assert len(population_by_region) == len(win_loss_by_region), "Q4: Your lists must be the same length"
    assert len(population_by_region) == 29, "Q4: There should be 29 teams being analysed for NFL"

    return stats.pearsonr(population_by_region, win_loss_by_region)[0]

nfl_correlation()

```


```python

```

## Question 5
In this question I would like you to explore the hypothesis that **given that an area has two sports teams in different sports, those teams will perform the same within their respective sports**. How I would like to see this explored is with a series of paired t-tests (so use [`ttest_rel`](https://docs.scipy.org/doc/scipy/reference/generated/scipy.stats.ttest_rel.html)) between all pairs of sports. Are there any sports where we can reject the null hypothesis? Again, average values where a sport has multiple teams in one region. Remember, you will only be including, for each sport, cities which have teams engaged in that sport, drop others as appropriate. This question is worth 20% of the grade for this assignment.


```python
import pandas as pd
import numpy as np
import scipy.stats as stats
import re

mlb_df=pd.read_csv("assets/mlb.csv")
nhl_df=pd.read_csv("assets/nhl.csv")
nba_df=pd.read_csv("assets/nba.csv")
nfl_df=pd.read_csv("assets/nfl.csv")
cities=pd.read_html("assets/wikipedia_data.html")[1]
cities=cities.iloc[:-1,[0,3,5,6,7,8]]

def sports_team_performance():
    # YOUR CODE HERE
    #raise NotImplementedError()
    
    #nhl
    cities_filtred_nhl = cities.set_index('NHL').filter(regex = '^[a-zA-Z]',axis =0)
    nhl = cities_filtred_nhl.reset_index().set_index('Metropolitan area')
    nhl_df_indexed_ = nhl_df.where(nhl_df['year']==2018).set_index('team')
    win_loss_by_region_nhl = [] # pass in win/loss ratio from nhl_df in the same order as cities["Metropolitan area"]


    for area in list(cities_filtred_nhl.index):
        sub = re.findall('[A-Z][a-z]*', area)
        lis = []
        for i in sub :
            test = nhl_df_indexed_.filter(regex = i,axis =0)
            w = float(test.T.loc['W'][0])
            l = float(test.T.loc['L'][0])
            lis.append(w/(w+l))

        win_loss_by_region_nhl.append(sum(lis)/len(sub))

    nhl['NHL'] = win_loss_by_region_nhl
    nhl = pd.DataFrame(nhl.loc[:,'NHL'])

    #nba
    cities_filtred_nba = cities.set_index('NBA').filter(regex = '^[A-Z\d]',axis =0)
    nba = cities_filtred_nba.reset_index().set_index('Metropolitan area')

    nba_df_indexed = nba_df.where(nba_df['year']==2018).set_index('team').dropna()
    win_loss_by_region_nba = [] # pass in win/loss ratio from nba_df in the same order as cities["Metropolitan area"]
    for area in list(cities_filtred_nba.index):
        sub = re.findall('[A-Z|\d]+[a-z]*', re.split('\[',area)[0])
        lis = []
        for i in sub :
            test = nba_df_indexed.filter(regex = i,axis =0)
            w = float(test.T.loc['W'][0])
            l = float(test.T.loc['L'][0])
            lis.append(w/(w+l))

        win_loss_by_region_nba.append(sum(lis)/len(sub))

    nba['NBA'] = win_loss_by_region_nba
    nba = pd.DataFrame(nba.loc[:,'NBA'])


    #mlb
    cities_filtred_mlb = cities.set_index('MLB').filter(regex = '^[A-Z\d]',axis =0)
    mlb = cities_filtred_mlb.reset_index().set_index('Metropolitan area')

    mlb_df_indexed = mlb_df[mlb_df['year']==2018].set_index('team')
    win_loss_by_region_mlb= [] # pass in win/loss ratio from nba_df in the same order as cities["Metropolitan area"]
    for area in list(cities_filtred_mlb.index):
        sub = re.findall('[A-Z|\d]+[a-z]* [A-Z][a-z]*|[A-Z|\d]+[a-z]*', re.split('\[',area)[0])
        lis = []
        for i in sub :
            test = mlb_df_indexed.filter(regex = i,axis =0)
            w = float(test.T.loc['W'][0])
            l = float(test.T.loc['L'][0])
            lis.append(w/(w+l))
        win_loss_by_region_mlb.append(sum(lis)/len(sub))

    mlb['MLB'] = win_loss_by_region_mlb
    mlb = pd.DataFrame(mlb.loc[:,'MLB'])

    #nfl
    cities_filtred_nfl = cities.set_index('NFL').filter(regex = '^[A-Z\d]',axis =0)

    nfl_df_indexed = nfl_df[nfl_df['year']==2018].set_index('team')
    win_loss_by_region_nfl = [] # pass in win/loss ratio from nba_df in the same order as cities["Metropolitan area"]
    for area in list(cities_filtred_nfl.index):   
        sub = re.findall('[A-Z|\d]+[a-z]* [A-Z][a-z]*|[A-Z|\d]+[a-z]*', re.split('\[',area)[0])
        #print(sub)
        lis = []
        for i in sub :
            test = nfl_df_indexed.filter(regex = i,axis =0)
            w = float(test.T.loc['W'][0])
            l = float(test.T.loc['L'][0])
            lis.append(w/(w+l))

        win_loss_by_region_nfl.append(sum(lis)/len(sub))
    nfl = cities_filtred_nfl.reset_index().set_index('Metropolitan area')
    nfl['NFL'] = win_loss_by_region_nfl
    nfl = pd.DataFrame(nfl.loc[:,'NFL'])
    
 

    # Note: p_values is a full dataframe, so df.loc["NFL","NBA"] should be the same as df.loc["NBA","NFL"] and
    # df.loc["NFL","NFL"] should return np.nan
    sports = ['NFL', 'NBA', 'NHL', 'MLB']
    p_values = pd.DataFrame({k:np.nan for k in sports}, index=sports)

    join = nfl.join([nba,nhl,mlb], how ='outer')
    
    for i in range(0,4):
        #p_values.iloc[i, i] = 0 
        j=i+1
        while j<4:
            df = join[[sports[i],sports[j]]].dropna(axis = 0)
            #print(list(df[sports[i]]))
            a = list(df[sports[i]])
            b = list(df[sports[j]])
            p_values.iloc[i,j]
            p_values.iloc[i, j] = stats.ttest_rel(a, b).pvalue
            p_values.iloc[j, i] = stats.ttest_rel(list(df[sports[i]]), list(df[sports[j]])).pvalue
            j = j+1
        
    assert abs(p_values.loc["NBA", "NHL"] - 0.02) <= 1e-2, "The NBA-NHL p-value should be around 0.02"
    assert abs(p_values.loc["MLB", "NFL"] - 0.80) <= 1e-2, "The MLB-NFL p-value should be around 0.80"
    return p_values






sports_team_performance()
```




<div>
<style scoped>
    .dataframe tbody tr th:only-of-type {
        vertical-align: middle;
    }

    .dataframe tbody tr th {
        vertical-align: top;
    }

    .dataframe thead th {
        text-align: right;
    }
</style>
<table border="1" class="dataframe">
  <thead>
    <tr style="text-align: right;">
      <th></th>
      <th>NFL</th>
      <th>NBA</th>
      <th>NHL</th>
      <th>MLB</th>
    </tr>
  </thead>
  <tbody>
    <tr>
      <th>NFL</th>
      <td>NaN</td>
      <td>0.941792</td>
      <td>0.030883</td>
      <td>0.802069</td>
    </tr>
    <tr>
      <th>NBA</th>
      <td>0.941792</td>
      <td>NaN</td>
      <td>0.022297</td>
      <td>0.950540</td>
    </tr>
    <tr>
      <th>NHL</th>
      <td>0.030883</td>
      <td>0.022297</td>
      <td>NaN</td>
      <td>0.000708</td>
    </tr>
    <tr>
      <th>MLB</th>
      <td>0.802069</td>
      <td>0.950540</td>
      <td>0.000708</td>
      <td>NaN</td>
    </tr>
  </tbody>
</table>
</div>




```python

```
